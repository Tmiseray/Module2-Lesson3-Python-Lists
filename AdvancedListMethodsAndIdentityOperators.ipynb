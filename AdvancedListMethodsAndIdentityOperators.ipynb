{
 "cells": [
  {
   "cell_type": "code",
   "execution_count": null,
   "metadata": {},
   "outputs": [],
   "source": [
    "# 2. Advanced List Methods and Identity Operators\n",
    "\n",
    "# Problem Statement: You have two lists of student names. \n",
    "# One list contains the names of students who have submitted their assignments, \n",
    "# and the other list contains the names of students who attended the last class."
   ]
  },
  {
   "cell_type": "code",
   "execution_count": 8,
   "metadata": {},
   "outputs": [
    {
     "name": "stdout",
     "output_type": "stream",
     "text": [
      "The student submitted their assignment and attended last class.\n"
     ]
    }
   ],
   "source": [
    "# Task 1: Given the two lists:\n",
    "\n",
    "# submitted = [\"Alice\", \"Bob\", \"Charlie\", \"David\"]\n",
    "# attended = [\"Charlie\", \"Eve\", \"Alice\", \"Frank\"]\n",
    "\n",
    "# Find out if Alice submitted their assignment and attended class. \n",
    "\n",
    "# HINT: How might the in keyword be of use here? \n",
    "# And how can you check to see if Alice is in both submitted and attended in one if statement?\n",
    "\n",
    "submitted = [\"Alice\", \"Bob\", \"Charlie\", \"David\"]\n",
    "attended = [\"Charlie\", \"Eve\", \"Alice\", \"Frank\"]\n",
    "\n",
    "if \"Alice\" in (submitted and attended):\n",
    "    print(\"The student submitted their assignment and attended last class.\")\n",
    "else:\n",
    "    print(\"The student did not submit their assignment or attend class.\")"
   ]
  },
  {
   "cell_type": "code",
   "execution_count": null,
   "metadata": {},
   "outputs": [],
   "source": []
  }
 ],
 "metadata": {
  "kernelspec": {
   "display_name": "Python 3",
   "language": "python",
   "name": "python3"
  },
  "language_info": {
   "codemirror_mode": {
    "name": "ipython",
    "version": 3
   },
   "file_extension": ".py",
   "mimetype": "text/x-python",
   "name": "python",
   "nbconvert_exporter": "python",
   "pygments_lexer": "ipython3",
   "version": "3.10.6"
  }
 },
 "nbformat": 4,
 "nbformat_minor": 2
}
