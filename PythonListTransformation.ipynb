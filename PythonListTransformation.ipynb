{
 "cells": [
  {
   "cell_type": "code",
   "execution_count": null,
   "metadata": {},
   "outputs": [],
   "source": [
    "# 1. Python List Transformation\n",
    "\n",
    "# Objective: The aim of this assignment is to practice list operations and transformations.\n",
    "\n",
    "# Problem Statement: You've been given a list of grades from an exam. \n",
    "# You need to process and analyze these grades."
   ]
  },
  {
   "cell_type": "code",
   "execution_count": 1,
   "metadata": {},
   "outputs": [
    {
     "name": "stdout",
     "output_type": "stream",
     "text": [
      "[95, 93, 90, 89, 88, 85, 80, 78, 76, 72]\n"
     ]
    }
   ],
   "source": [
    "# Task 1: Given the list of grades:\n",
    "\n",
    "# grades = [85, 90, 78, 88, 76, 95, 89, 80, 72, 93]\n",
    "# Sort the grades in descending order and print the sorted list.\n",
    "\n",
    "grades = [85, 90, 78, 88, 76, 95, 89, 80, 72, 93]\n",
    "grades.sort()\n",
    "grades.reverse()\n",
    "print(grades)"
   ]
  },
  {
   "cell_type": "code",
   "execution_count": 7,
   "metadata": {},
   "outputs": [
    {
     "name": "stdout",
     "output_type": "stream",
     "text": [
      "The average grade is 84.6\n"
     ]
    }
   ],
   "source": [
    "# Task 2: Calculate the average grade and print it.\n",
    "\n",
    "grades = [85, 90, 78, 88, 76, 95, 89, 80, 72, 93]\n",
    "\n",
    "average_grade = sum(grades) / len(grades)\n",
    "\n",
    "print(\"The average grade is\", average_grade)\n",
    "\n",
    "# Alternate \n",
    "\n",
    "# import numpy as np\n",
    "\n",
    "# average = np.average(grades)\n",
    "\n",
    "# print(average, \"is the average grade.\")\n"
   ]
  },
  {
   "cell_type": "code",
   "execution_count": null,
   "metadata": {},
   "outputs": [],
   "source": []
  }
 ],
 "metadata": {
  "kernelspec": {
   "display_name": "Python 3",
   "language": "python",
   "name": "python3"
  },
  "language_info": {
   "codemirror_mode": {
    "name": "ipython",
    "version": 3
   },
   "file_extension": ".py",
   "mimetype": "text/x-python",
   "name": "python",
   "nbconvert_exporter": "python",
   "pygments_lexer": "ipython3",
   "version": "3.10.6"
  }
 },
 "nbformat": 4,
 "nbformat_minor": 2
}
