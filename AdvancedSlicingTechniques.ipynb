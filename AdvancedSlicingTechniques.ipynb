{
 "cells": [
  {
   "cell_type": "code",
   "execution_count": null,
   "metadata": {},
   "outputs": [],
   "source": [
    "# 3. Advanced Slicing Techniques\n",
    "\n",
    "# Objective: The aim of this assignment is to use Python list slicing.\n",
    "\n",
    "# Problem Statement: You have a list of daily temperatures for one month, \n",
    "# and you'd like to extract specific data from it."
   ]
  },
  {
   "cell_type": "code",
   "execution_count": 1,
   "metadata": {},
   "outputs": [
    {
     "name": "stdout",
     "output_type": "stream",
     "text": [
      "[83, 85, 86, 87, 88, 89, 90]\n"
     ]
    }
   ],
   "source": [
    "# Task 1: Given the list of temperatures:\n",
    "\n",
    "# temperatures = [72, 75, 78, 79, 80, 81, 82, 83, 85, 86, 87, 88, 89, 90, 91, 92, 93, 94, 95, 96, 97, 98, 99, 100, 101, 102, 103, 104, 105, 106]\n",
    "\n",
    "# Extract the temperatures for the second week (7 days) of the month (index 7 to index 14). \n",
    "\n",
    "# Expected Outcome:\n",
    "# 83, 85, 86, 87, 88, 89, 90,\n",
    "\n",
    "temperatures = [72, 75, 78, 79, 80, 81, 82, 83, 85, 86, 87, 88, 89, 90, 91, 92, 93, 94, 95, 96, 97, 98, 99, 100, 101, 102, 103, 104, 105, 106]\n",
    "\n",
    "second_week_temps = temperatures[7:14]\n",
    "print(second_week_temps)"
   ]
  },
  {
   "cell_type": "code",
   "execution_count": 7,
   "metadata": {},
   "outputs": [
    {
     "name": "stdout",
     "output_type": "stream",
     "text": [
      "[100, 101, 102, 103, 104, 105, 106]\n"
     ]
    }
   ],
   "source": [
    "# Task 2: Extract all the temperatures above 100. \n",
    "\n",
    "# HINT: add the temperatures over 100 to a new list, or \n",
    "# use list slicing to get the temperatures. \n",
    "\n",
    "temperatures = [72, 75, 78, 79, 80, 81, 82, 83, 85, 86, 87, 88, 89, 90, 91, 92, 93, 94, 95, 96, 97, 98, 99, 100, 101, 102, 103, 104, 105, 106]\n",
    "\n",
    "temperatures.sort()\n",
    "\n",
    "high_temps = temperatures[temperatures.index(100):]\n",
    "print(high_temps)"
   ]
  },
  {
   "cell_type": "code",
   "execution_count": null,
   "metadata": {},
   "outputs": [],
   "source": []
  }
 ],
 "metadata": {
  "kernelspec": {
   "display_name": "Python 3",
   "language": "python",
   "name": "python3"
  },
  "language_info": {
   "codemirror_mode": {
    "name": "ipython",
    "version": 3
   },
   "file_extension": ".py",
   "mimetype": "text/x-python",
   "name": "python",
   "nbconvert_exporter": "python",
   "pygments_lexer": "ipython3",
   "version": "3.10.6"
  }
 },
 "nbformat": 4,
 "nbformat_minor": 2
}
